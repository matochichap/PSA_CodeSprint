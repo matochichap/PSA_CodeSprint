{
 "cells": [
  {
   "cell_type": "code",
   "execution_count": 28,
   "metadata": {},
   "outputs": [],
   "source": [
    "import pandas as pd\n",
    "import numpy as np\n",
    "from datetime import datetime, timedelta\n",
    "import random\n",
    "\n",
    "# Define the lists for ship data\n",
    "shipping_lines = ['Maersk', 'CMA CGM', 'Evergreen', 'MSC', 'Hapag-Lloyd']\n",
    "vessel_capacities = [1200, 1000, 1400, 1500, 1100]  # Updated vessel capacities\n",
    "ports_of_destination = ['Bangkok', 'Ho Chi Minh', 'Jakarta', 'Sydney', 'Manila']\n",
    "ports_of_origin = ['Los Angeles', 'New York', 'Dubai', 'Hong Kong', 'Japan']\n",
    "\n",
    "# Create the ship dataset\n",
    "ship_data = pd.DataFrame({\n",
    "    'Shipping Line': np.random.choice(shipping_lines, 100),\n",
    "    'Vessel Capacity (TEUs)': np.random.choice(vessel_capacities, 100),\n",
    "    'Port of Origin': 'Singapore',\n",
    "    'Port of Destination': np.random.choice(ports_of_destination, 100),\n",
    "    'Arrival Time': [datetime.now() + timedelta(days=random.randint(1, 30)) for _ in range(100)],\n",
    "    'Destination Time': [datetime.now() + timedelta(days=random.randint(31, 60)) for _ in range(100)],\n",
    "    'Priority': np.random.choice(['Express', 'Normal'], 100),\n",
    "    'Cargo Type': np.random.choice(['Dangerous', 'Perishable', 'General'], 100),\n",
    "    'Idle Time (hours)': np.random.randint(1, 49, 100)  # Idle time in hours\n",
    "})\n",
    "\n",
    "# Ensure vessel capacity is always larger than the weight of order\n",
    "ship_data['Weight of Order (tons)'] = np.random.randint(500, 1000, 100)\n",
    "ship_data['Vessel Capacity (TEUs)'] = ship_data['Weight of Order (tons)'] + 1000\n",
    "\n",
    "# Save the datasets to Excel\n",
    "ship_data.to_excel('ship_dataset.xlsx', index=False)\n"
   ]
  }
 ],
 "metadata": {
  "kernelspec": {
   "display_name": "Python 3",
   "language": "python",
   "name": "python3"
  },
  "language_info": {
   "codemirror_mode": {
    "name": "ipython",
    "version": 3
   },
   "file_extension": ".py",
   "mimetype": "text/x-python",
   "name": "python",
   "nbconvert_exporter": "python",
   "pygments_lexer": "ipython3",
   "version": "3.11.4"
  },
  "orig_nbformat": 4
 },
 "nbformat": 4,
 "nbformat_minor": 2
}
