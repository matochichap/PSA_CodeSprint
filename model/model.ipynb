{
 "cells": [
  {
   "cell_type": "code",
   "execution_count": 106,
   "metadata": {},
   "outputs": [
    {
     "data": {
      "text/plain": [
       "'Optimization model has been set up'"
      ]
     },
     "execution_count": 106,
     "metadata": {},
     "output_type": "execute_result"
    }
   ],
   "source": [
    "import gurobipy as gp\n",
    "from gurobipy import GRB\n",
    "import pandas as pd\n",
    "\n",
    "# Load the Excel files into DataFrames\n",
    "order_df = pd.read_excel(\"../dataset/order_dataset.xlsx\")\n",
    "ship_df = pd.read_excel(\"../dataset/ship_dataset.xlsx\")\n",
    "\n",
    "# Current time (assuming it's the time when the model is being run)\n",
    "current_time = pd.Timestamp.now()\n",
    "\n",
    "# Calculate ideal time to delivery for each order\n",
    "order_df['Ideal_Time'] = (order_df['Expected Time of Arrival'] - current_time).dt.total_seconds() / 3600  # in hours\n",
    "\n",
    "# Define the model\n",
    "m = gp.Model(\"port_logistics\")\n",
    "\n",
    "# Number of orders and ships\n",
    "num_orders = len(order_df)\n",
    "num_ships = len(ship_df)\n",
    "\n",
    "# Decision Variables\n",
    "x = m.addVars(num_orders, num_ships, vtype=GRB.BINARY, name=\"x\")  # x[i,j]\n",
    "y = m.addVars(num_ships, lb=0, ub=1, name=\"y\")  # y[j]\n",
    "t = m.addVars(num_orders, lb=0, name=\"t\")  # t[i]\n",
    "z = m.addVars(num_orders, num_orders, num_ships, vtype=GRB.BINARY, name=\"z\")  # z[i,k,j]\n",
    "\n",
    "# Decision Variable for grouping orders with similar expected time of arrival and type\n",
    "g = m.addVars(num_orders, num_orders, num_ships, vtype=GRB.BINARY, name=\"g\")  # g[i,k,j]\n",
    "\n",
    "# Objective Function\n",
    "m.setObjective(\n",
    "    gp.quicksum(y[j] for j in range(num_ships)) - \n",
    "    gp.quicksum(\n",
    "        order_df.loc[i, 'Weight of Order (tons)'] * \n",
    "        (2 if ship_df.loc[j, 'Priority'] == 'Express' else 1) * t[i] \n",
    "        for i in range(num_orders) for j in range(num_ships)\n",
    "    ) -\n",
    "    gp.quicksum(\n",
    "        (ship_df.loc[j, 'Arrival Time'] - order_df.loc[i, 'Expected Time of Arrival']).total_seconds() / 3600  # Calculate time difference in hours\n",
    "        for i in range(num_orders) for j in range(num_ships)\n",
    "    ) +\n",
    "    gp.quicksum(\n",
    "        g[i, k, j] for i in range(num_orders) for k in range(num_orders) for j in range(num_ships)\n",
    "    ),\n",
    "    GRB.MAXIMIZE\n",
    ")\n",
    "\n",
    "# Constraints\n",
    "# 1. Assignment Constraint\n",
    "for i in range(num_orders):\n",
    "    m.addConstr(gp.quicksum(x[i, j] for j in range(num_ships)) == 1)\n",
    "\n",
    "# 2. Capacity Constraint\n",
    "for j in range(num_ships):\n",
    "    m.addConstr(gp.quicksum(order_df.loc[i, 'Weight of Order (tons)'] * x[i, j] for i in range(num_orders)) <= ship_df.loc[j, 'Vessel Capacity (tonnes)'])\n",
    "\n",
    "# 3. Port Destination and Origin Constraints\n",
    "for i in range(num_orders):\n",
    "    for j in range(num_ships):\n",
    "        if order_df.loc[i, 'Port of Origin'] != ship_df.loc[j, 'Port of Origin']:\n",
    "            m.addConstr(x[i, j] == 0)\n",
    "        if order_df.loc[i, 'Port of Destination'] != ship_df.loc[j, 'Port of Destination']:\n",
    "            m.addConstr(x[i, j] == 0)\n",
    "\n",
    "# 4. Combination Constraint\n",
    "for i in range(num_orders):\n",
    "    for k in range(num_orders):\n",
    "        for j in range(num_ships):\n",
    "            m.addConstr(x[i, j] - x[k, j] <= 1 - z[i, k, j])\n",
    "            m.addConstr(x[k, j] - x[i, j] <= 1 - z[i, k, j])\n",
    "\n",
    "# 5. Constraint to ensure g[i,k,j] is 1 only if orders i and k are assigned to the same ship j\n",
    "for i in range(num_orders):\n",
    "    for k in range(num_orders):\n",
    "        for j in range(num_ships):\n",
    "            m.addConstr(x[i, j] + x[k, j] - 1 <= g[i, k, j])\n",
    "\n",
    "# 6. Constraint for ensuring ship's Arrival Time is less than order's expected time of arrival\n",
    "for i in range(num_orders):\n",
    "    for j in range(num_ships):\n",
    "        m.addConstr(\n",
    "            y[j] * (ship_df.loc[j, 'Arrival Time'] - order_df.loc[i, 'Expected Time of Arrival']).total_seconds() / 3600 <= 0\n",
    "        )\n",
    "\n",
    "\n",
    "\"Optimization model has been set up\"\n"
   ]
  },
  {
   "cell_type": "code",
   "execution_count": 107,
   "metadata": {},
   "outputs": [
    {
     "name": "stdout",
     "output_type": "stream",
     "text": [
      "Gurobi Optimizer version 10.0.3 build v10.0.3rc0 (mac64[arm])\n",
      "\n",
      "CPU model: Apple M2\n",
      "Thread count: 8 physical cores, 8 logical processors, using up to 8 threads\n",
      "\n",
      "Optimize a model with 12579606 rows, 8371671 columns and 37538787 nonzeros\n",
      "Model fingerprint: 0x0d97ae8b\n",
      "Variable types: 321 continuous, 8371350 integer (8371350 binary)\n",
      "Coefficient statistics:\n",
      "  Matrix range     [8e-07, 1e+03]\n",
      "  Objective range  [1e+00, 2e+05]\n",
      "  Bounds range     [1e+00, 1e+00]\n",
      "  RHS range        [1e+00, 2e+05]\n",
      "Found heuristic solution: objective 4315403.5434\n",
      "\n",
      "Explored 0 nodes (0 simplex iterations) in 2.97 seconds (0.92 work units)\n",
      "Thread count was 1 (of 8 available processors)\n",
      "\n",
      "Solution count 1: 4.3154e+06 \n",
      "\n",
      "Optimal solution found (tolerance 1.00e-04)\n",
      "Best objective 4.315403543382e+06, best bound 4.315562543382e+06, gap 0.0037%\n"
     ]
    }
   ],
   "source": [
    "m.optimize()\n"
   ]
  },
  {
   "cell_type": "code",
   "execution_count": 111,
   "metadata": {},
   "outputs": [
    {
     "name": "stdout",
     "output_type": "stream",
     "text": [
      "Pairings of Order ID and Ship ID:\n",
      "     Order ID  Ship ID\n",
      "0           1       32\n",
      "1           2       47\n",
      "2           3        2\n",
      "3           4       14\n",
      "4           5       26\n",
      "..        ...      ...\n",
      "157       158      151\n",
      "158       159      155\n",
      "159       160      146\n",
      "160       161      143\n",
      "161       162      140\n",
      "\n",
      "[162 rows x 2 columns]\n"
     ]
    }
   ],
   "source": [
    "# Dictionary to store pairings\n",
    "pairings = {}\n",
    "\n",
    "# Iterate through the x decision variables\n",
    "for i in range(num_orders):\n",
    "    for j in range(num_ships):\n",
    "        if x[i, j].X > 0.5:  # If x[i,j] is approximately 1 (due to the binary nature)\n",
    "            pairings[order_df.loc[i, 'Order ID']] = ship_df.loc[j, 'Ship ID']\n",
    "\n",
    "# Convert dictionary to Pandas DataFrame\n",
    "pairings_df = pd.DataFrame(list(pairings.items()), columns=['Order ID', 'Ship ID'])\n",
    "\n",
    "# Display the pairings DataFrame\n",
    "print(\"Pairings of Order ID and Ship ID:\")\n",
    "print(pairings_df)\n",
    "\n",
    "# Save the pairings to an Excel file\n",
    "pairings_df.to_excel(\"pairings.xlsx\", index=False)\n"
   ]
  }
 ],
 "metadata": {
  "kernelspec": {
   "display_name": "Python 3",
   "language": "python",
   "name": "python3"
  },
  "language_info": {
   "codemirror_mode": {
    "name": "ipython",
    "version": 3
   },
   "file_extension": ".py",
   "mimetype": "text/x-python",
   "name": "python",
   "nbconvert_exporter": "python",
   "pygments_lexer": "ipython3",
   "version": "3.11.4"
  },
  "orig_nbformat": 4
 },
 "nbformat": 4,
 "nbformat_minor": 2
}
